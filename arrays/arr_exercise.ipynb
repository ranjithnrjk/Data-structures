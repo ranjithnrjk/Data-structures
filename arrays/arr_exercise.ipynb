{
 "cells": [
  {
   "cell_type": "markdown",
   "metadata": {},
   "source": [
    "<h1> Exercise: Array Data structures</h1>"
   ]
  },
  {
   "cell_type": "markdown",
   "metadata": {},
   "source": [
    "1. Let us say your expense for every month are listed below,\n",
    "\t1. January -  2200\n",
    " \t2. February - 2350\n",
    "    3. March - 2600\n",
    "    4. April - 2130\n",
    "    5. May - 2190\n",
    "\n",
    "\n",
    "Create a list to store these monthly expenses and using that find out,\n",
    "\n",
    "    1. In Feb, how many dollars you spent extra compare to January?\n",
    "    2. Find out your total expense in first quarter (first three months) of the year.\n",
    "    3. Find out if you spent exactly 2000 dollars in any month\n",
    "    4. June month just finished and your expense is 1980 dollar. Add this item to our monthly expense list\n",
    "    5. You returned an item that you bought in a month of April and\n",
    "    got a refund of 200$. Make a correction to your monthly expense list\n",
    "    based on this"
   ]
  },
  {
   "cell_type": "code",
   "execution_count": 10,
   "metadata": {},
   "outputs": [
    {
     "name": "stdout",
     "output_type": "stream",
     "text": [
      "1. Extra dollars spent in Febraury compared to January: 150\n",
      "\n",
      "2. Total expenses in first quarter: 7150\n",
      "\n",
      "3. If exactly $2000 spent in any month: False\n",
      "\n",
      "4. Adding JUNE month expenses\n",
      "June month expense added and final list: [2200, 2350, 2600, 2130, 2190, 1980]\n",
      "\n",
      "5. Got a refund of $200 in APRIL. Updating the list....\n",
      "Updated expenses list: [2200, 2350, 2600, 1930, 2190, 1980]\n"
     ]
    }
   ],
   "source": [
    "expenses = [2200, 2350, 2600, 2130, 2190]\n",
    "\n",
    "# 1\n",
    "feb_exp_jan_comp = expenses[1] - expenses[0]\n",
    "print(f\"1. Extra dollars spent in Febraury compared to January: {feb_exp_jan_comp}\\n\")\n",
    "\n",
    "# 2\n",
    "print(f\"2. Total expenses in first quarter: {sum(expenses[:3])}\\n\")\n",
    "\n",
    "# 3\n",
    "print(f\"3. If exactly $2000 spent in any month: {2000 in expenses}\\n\")\n",
    "\n",
    "# 4\n",
    "print(\"4. Adding JUNE month expenses\")\n",
    "expenses.append(1980)\n",
    "print(f\"June month expense added and final list: {expenses}\\n\")\n",
    "\n",
    "# 5\n",
    "print(\"5. Got a refund of $200 in APRIL. Updating the list....\")\n",
    "expenses[3] = expenses[3] - 200\n",
    "print(f\"Updated expenses list: {expenses}\")"
   ]
  },
  {
   "cell_type": "code",
   "execution_count": null,
   "metadata": {},
   "outputs": [],
   "source": []
  },
  {
   "cell_type": "markdown",
   "metadata": {},
   "source": [
    "2. You have a list of your favourite marvel super heros.\n",
    "```\n",
    "heros=['spider man','thor','hulk','iron man','captain america']\n",
    "```\n",
    "\n",
    "Using this find out,\n",
    "\n",
    "    1. Length of the list\n",
    "    2. Add 'black panther' at the end of this list\n",
    "    3. You realize that you need to add 'black panther' after 'hulk',\n",
    "       so remove it from the list first and then add it after 'hulk'\n",
    "    4. Now you don't like thor and hulk because they get angry easily :)\n",
    "       So you want to remove thor and hulk from list and replace them with doctor strange (because he is cool).\n",
    "       Do that with one line of code.\n",
    "    5. Sort the heros list in alphabetical order (Hint. Use dir() functions to list down all functions available in list)"
   ]
  },
  {
   "cell_type": "code",
   "execution_count": 28,
   "metadata": {},
   "outputs": [
    {
     "name": "stdout",
     "output_type": "stream",
     "text": [
      "1. Number of super heros  5 \n",
      "\n",
      "2. Adding \"black panther\" to the team: ['soider man', 'thor', 'hulk', 'iron man', 'captain america', 'black panther']\n",
      "\n",
      "3. Removing 'black panther' from the team\n",
      "Removed \"black panther\": ['soider man', 'thor', 'hulk', 'iron man', 'captain america']\n",
      "Adding black panther after hulk:\n",
      "Updated team list: ['soider man', 'thor', 'hulk', 'black panther', 'iron man', 'captain america']\n",
      "\n",
      "4. Removing \"thor and hulk\" due to anger management:\n",
      "Adding 'Doctor Strange'\n",
      "Updated team list: ['soider man', 'Doctor Strange', 'black panther', 'iron man', 'captain america']\n",
      "\n",
      "5. Sort the heros Alphabetically\n",
      "Sorted list: ['Doctor Strange', 'black panther', 'captain america', 'iron man', 'soider man']\n"
     ]
    }
   ],
   "source": [
    "heros = ['soider man', 'thor', 'hulk', 'iron man', 'captain america']\n",
    "\n",
    "# 1\n",
    "print('1. Number of super heros ', len(heros), '\\n')\n",
    "\n",
    "# 2\n",
    "heros.append(\"black panther\")\n",
    "print(f'2. Adding \"black panther\" to the team: {heros}\\n')\n",
    "\n",
    "# 3\n",
    "print('3. Removing \\'black panther\\' from the team')\n",
    "heros.remove('black panther')\n",
    "print(f'Removed \\\"black panther\\\": {heros}')\n",
    "print(\"Adding black panther after hulk:\")\n",
    "heros.insert(3, 'black panther')\n",
    "print(f\"Updated team list: {heros}\\n\")\n",
    "\n",
    "# 4\n",
    "print('4. Removing \\\"thor and hulk\\\" due to anger management:')\n",
    "print(\"Adding \\'Doctor Strange\\'\")\n",
    "heros[1:3]=['Doctor Strange']\n",
    "print(f'Updated team list: {heros}\\n')\n",
    "\n",
    "# 5\n",
    "print('5. Sort the heros Alphabetically')\n",
    "heros.sort()\n",
    "print(f'Sorted list: {heros}')"
   ]
  },
  {
   "cell_type": "code",
   "execution_count": null,
   "metadata": {},
   "outputs": [],
   "source": []
  },
  {
   "cell_type": "markdown",
   "metadata": {},
   "source": [
    "\n",
    "3. Create a list of all odd numbers between 1 and a max number.\n",
    "Max number is something you need to take from a user using input() function"
   ]
  },
  {
   "cell_type": "code",
   "execution_count": 3,
   "metadata": {},
   "outputs": [],
   "source": [
    "def odd_num_list(n):\n",
    "    \"\"\"Create a list of odd numbers untill 'n' \"\"\"\n",
    "    odd_num_list = []\n",
    "    for i in range(1, n+1):\n",
    "        if i % 2 != 0:\n",
    "            odd_num_list.append(i)\n",
    "    return odd_num_list\n",
    "\n",
    "max_num = input('Enter the max number: ')\n",
    "odd_numbers = odd_num_list(int(max_num))"
   ]
  },
  {
   "cell_type": "code",
   "execution_count": 4,
   "metadata": {},
   "outputs": [
    {
     "name": "stdout",
     "output_type": "stream",
     "text": [
      "Odd numbers till 20: [1, 3, 5, 7, 9, 11, 13, 15, 17, 19]\n"
     ]
    }
   ],
   "source": [
    "print(f'Odd numbers till {max_num}: {odd_numbers}')"
   ]
  },
  {
   "cell_type": "code",
   "execution_count": null,
   "metadata": {},
   "outputs": [],
   "source": []
  }
 ],
 "metadata": {
  "kernelspec": {
   "display_name": "Python 3",
   "language": "python",
   "name": "python3"
  },
  "language_info": {
   "codemirror_mode": {
    "name": "ipython",
    "version": 3
   },
   "file_extension": ".py",
   "mimetype": "text/x-python",
   "name": "python",
   "nbconvert_exporter": "python",
   "pygments_lexer": "ipython3",
   "version": "3.12.1"
  }
 },
 "nbformat": 4,
 "nbformat_minor": 2
}
